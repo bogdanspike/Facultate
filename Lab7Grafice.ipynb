{
 "cells": [
  {
   "cell_type": "markdown",
   "id": "764207b8-d7ee-45a8-89fa-243817c86713",
   "metadata": {},
   "source": [
    "# Grafice #"
   ]
  },
  {
   "cell_type": "markdown",
   "id": "eb79243a-993c-4c01-9f3d-61d59ce79d3e",
   "metadata": {},
   "source": [
    "## Problema 1 ##"
   ]
  },
  {
   "cell_type": "markdown",
   "id": "488e51cc-6272-4965-a77d-6e1cf3fcab7c",
   "metadata": {},
   "source": [
    "Citiți de la tastatură ziua de naștere **z**, luna de naștere **l** și vîrsta **v**. \n",
    "Reprezentați grafic, sub forma pie chart, procentele reprezentate de **z**, **l**, **v** din **z + l + v**."
   ]
  },
  {
   "cell_type": "code",
   "execution_count": 8,
   "id": "4f43f222-2c8e-47d1-a3dd-af668d6105bf",
   "metadata": {},
   "outputs": [
    {
     "name": "stdin",
     "output_type": "stream",
     "text": [
      "Ziua de nastere: 6\n",
      "Luna de nastere: 11\n",
      "Varsta: 23\n"
     ]
    },
    {
     "name": "stdout",
     "output_type": "stream",
     "text": [
      "[0.15, 0.275, 0.575] ['zi', 'luna', 'varsta']\n"
     ]
    },
    {
     "data": {
      "image/png": "[encoded data removed]",
      "text/plain": [
       "<Figure size 360x360 with 1 Axes>"
      ]
     },
     "metadata": {},
     "output_type": "display_data"
    }
   ],
   "source": [
    "import matplotlib.pyplot as plt\n",
    "\n",
    "plt.close(\"all\")\n",
    "\n",
    "lista_procentaje = []\n",
    "\n",
    "zi = int(input('Ziua de nastere:'))\n",
    "luna = int(input('Luna de nastere:'))\n",
    "varsta = int(input('Varsta:'))\n",
    "\n",
    "nume = ['zi', 'luna', 'varsta']\n",
    "\n",
    "p_max = zi + luna + varsta # 100%\n",
    "p_zi = zi / p_max\n",
    "p_luna = luna / p_max\n",
    "p_varsta = varsta / p_max\n",
    "lista_procentaje.append(p_zi)\n",
    "lista_procentaje.append(p_luna)\n",
    "lista_procentaje.append(p_varsta)\n",
    "print(lista_procentaje, nume)\n",
    "\n",
    "plt.figure(figsize=(5,5))\n",
    "plt.pie(lista_procentaje, labels=nume)\n",
    "plt.show()"
   ]
  },
  {
   "cell_type": "markdown",
   "id": "f3cc83bc-3eb4-4497-986b-57c88f6c64be",
   "metadata": {},
   "source": [
    "## Problema 2 ##"
   ]
  },
  {
   "cell_type": "markdown",
   "id": "fe4c1ddd-8a81-423a-aba3-ab0dd0bd707e",
   "metadata": {},
   "source": [
    "Realizați un grafic de tip bar care să aibă pe axa OX literele unice din numele dumneavoastră complet (nume + prenume), în ordinea în care apar, fără repetiții, iar pe axa OY, pozițiile acestora din alfabet. Exemplu: Pentru \"Manea Adrian-Costin\", avem de reprezentat perechile (m, 13), (a, 1), (n, 14), (e, 5), (d, 4), (r, 18), (i, 9), (c, 3), (s, 19), (t, 20)."
   ]
  },
  {
   "cell_type": "code",
   "execution_count": 65,
   "id": "c0bada2a-1075-4a9d-ba8d-da64614ae943",
   "metadata": {},
   "outputs": [
    {
     "name": "stdout",
     "output_type": "stream",
     "text": [
      "[('t', 20), ('u', 21), ('d', 4), ('o', 15), ('r', 18), ('b', 2), ('g', 7), ('d', 4), ('a', 1), ('n', 14), ('i', 9)]\n",
      "[20, 21, 4, 15, 18, 2, 7, 4, 1, 14, 9]\n"
     ]
    },
    {
     "data": {
      "image/png": "[encoded data removed]",
      "text/plain": [
       "<Figure size 432x288 with 1 Axes>"
      ]
     },
     "metadata": {
      "needs_background": "light"
     },
     "output_type": "display_data"
    }
   ],
   "source": [
    "import numpy as np\n",
    "import matplotlib.pyplot as plt\n",
    "\n",
    "plt.close(\"all\")\n",
    "\n",
    "\n",
    "lista = []\n",
    "litere = ['t', 'u', 'd', 'o', 'r', 'b', 'g', 'd', 'a', 'n', 'i']\n",
    "valori = [1, 2, 3, 4, 5, 6, 7, 8, 9, 10, 11, 12, 13, 14, 15, 16, 17, 18, 19, 20, 21, 22, 23, 24, 25, 26]\n",
    "dictionar = { \n",
    "        'a': 1,\n",
    "        'b': 2,\n",
    "        'c': 3,\n",
    "        'd': 4,\n",
    "        'e': 5,\n",
    "        'f': 6,\n",
    "        'g': 7,\n",
    "        'h': 8,\n",
    "        'i': 9,\n",
    "        'j': 10,\n",
    "        'k': 11,\n",
    "        'l': 12,\n",
    "        'm': 13,\n",
    "        'n': 14,\n",
    "        'o': 15,\n",
    "        'p': 16,\n",
    "        'q': 17,\n",
    "        'r': 18,\n",
    "        's': 19,\n",
    "        't': 20,\n",
    "        'u': 21,\n",
    "        'v': 22,\n",
    "        'w': 23,\n",
    "        'x': 24,\n",
    "        'y': 25,\n",
    "        'z': 26\n",
    "            }\n",
    "for i in litere:\n",
    "    if i in dictionar:\n",
    "        lista.append((i, dictionar[i]))\n",
    "print(lista)\n",
    "\n",
    "valori_caractere_unice = []\n",
    "\n",
    "for j in range(0, len(lista)):\n",
    "    valori_caractere_unice.append(lista[j][1])\n",
    "print(valori_caractere_unice)\n",
    "\n",
    "plt.subplot(1, 1, 1)\n",
    "plt.bar(valori_caractere_unice, valori_caractere_unice, color='g')\n",
    "\n",
    "plt.show()"
   ]
  },
  {
   "cell_type": "code",
   "execution_count": null,
   "id": "35ad7201-6f56-42d1-a058-3303a15688a1",
   "metadata": {},
   "outputs": [],
   "source": []
  }
 ],
 "metadata": {
  "kernelspec": {
   "display_name": "Python 3 (ipykernel)",
   "language": "python",
   "name": "python3"
  },
  "language_info": {
   "codemirror_mode": {
    "name": "ipython",
    "version": 3
   },
   "file_extension": ".py",
   "mimetype": "text/x-python",
   "name": "python",
   "nbconvert_exporter": "python",
   "pygments_lexer": "ipython3",
   "version": "3.9.7"
  }
 },
 "nbformat": 4,
 "nbformat_minor": 5
}
