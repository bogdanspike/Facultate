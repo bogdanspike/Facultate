{
 "cells": [
  {
   "cell_type": "markdown",
   "id": "13dc9d11-3bec-4c0f-916c-0409f21527c0",
   "metadata": {},
   "source": [
    "# Exerciții în Jupyter #"
   ]
  },
  {
   "cell_type": "markdown",
   "id": "a0c3e5c2-5130-416e-b1c2-86420e37ffe8",
   "metadata": {},
   "source": [
    "## Exercițiul 1: Lucrul cu text ##\n",
    "> The [James Rumsey Monument](https://en.wikipedia.org/wiki/James_Rumsey_Monument), also known as Rumsey Monument Park, is a municipal park and former West Virginia state park in Shepherdstown, Jefferson County in the U.S. state of West Virginia. The park overlooks the Potomac River. It commemorates local inventor James Rumsey and his successful public demonstration of his steamboat invention on the Potomac in 1787. The monument consists of a 75 ft (23 m) column of Woodstock granite, which is capped with a globe and stands atop a tall, concrete plinth consisting of a 40 sq ft (3.7 m2) plaza."
   ]
  },
  {
   "cell_type": "markdown",
   "id": "49e5a2ac-3701-4f6a-b30e-37394eeebdeb",
   "metadata": {},
   "source": [
    "Codul de mai jos numără caracterele din citatul de mai sus."
   ]
  },
  {
   "cell_type": "code",
   "execution_count": 64,
   "id": "cc4da2c7-57fb-440a-b791-52233b1fc015",
   "metadata": {},
   "outputs": [
    {
     "name": "stdout",
     "output_type": "stream",
     "text": [
      "506\n"
     ]
    }
   ],
   "source": [
    "import json\n",
    "\n",
    "with open('test.ipynb') as json_file:\n",
    "    data = json.load(json_file)\n",
    "\n",
    "# print(data) #\n",
    "# print(data['cells'][1]['source'][1]) #\n",
    "    \n",
    "caractere = 0\n",
    "for litera in data['cells'][1]['source'][1]:\n",
    "    k = [caracter for caracter in litera.split() if \" \" not in caracter]\n",
    "    caractere = caractere + len(k)\n",
    "            \n",
    "print(caractere)"
   ]
  },
  {
   "cell_type": "markdown",
   "id": "c6d1b6a4-1337-4f14-a69d-80543c4aaf6e",
   "metadata": {},
   "source": [
    "Codul de mai jos numără aparițiile unui caracter introdus de la tastatură din citatul de mai sus. *Varianta* ***non-case-sensitive***"
   ]
  },
  {
   "cell_type": "code",
   "execution_count": 88,
   "id": "effe2c14-56ae-4786-877e-b6e27f6a40bc",
   "metadata": {},
   "outputs": [
    {
     "name": "stdin",
     "output_type": "stream",
     "text": [
      "Introdu caracterul dorit: c\n"
     ]
    },
    {
     "name": "stdout",
     "output_type": "stream",
     "text": [
      "17\n"
     ]
    }
   ],
   "source": [
    "x = input(\"Introdu caracterul dorit:\")\n",
    "c = 0\n",
    "# print(type(data['cells'][1]['source'][1]))\n",
    "for litera in data['cells'][1]['source'][1]:\n",
    "    if litera.lower() == x:\n",
    "        c += 1\n",
    "print(c)"
   ]
  },
  {
   "cell_type": "markdown",
   "id": "7099020e-0ef4-40d0-8977-b460cb7ec9ca",
   "metadata": {},
   "source": [
    "*Varianta* ***case-sensitive***"
   ]
  },
  {
   "cell_type": "code",
   "execution_count": 89,
   "id": "847b0e29-64e5-4e63-8551-d81b35669cb0",
   "metadata": {},
   "outputs": [
    {
     "name": "stdin",
     "output_type": "stream",
     "text": [
      "Introdu caracterul dorit: c\n"
     ]
    },
    {
     "name": "stdout",
     "output_type": "stream",
     "text": [
      "16\n"
     ]
    }
   ],
   "source": [
    "x = input(\"Introdu caracterul dorit:\")\n",
    "c = 0\n",
    "for litera in data['cells'][1]['source'][1]:\n",
    "    if litera == x:\n",
    "        c += 1\n",
    "print(c)"
   ]
  },
  {
   "cell_type": "markdown",
   "id": "c0f4ddac-f755-4a51-b9db-f8853e43ccb8",
   "metadata": {},
   "source": [
    "## Exercițiul 2: Lucrul cu numere prime ##"
   ]
  },
  {
   "cell_type": "markdown",
   "id": "5aeb7fb5-7897-480b-ba5f-e4ec482b391d",
   "metadata": {},
   "source": [
    "| Număr n | Al n-lea număr prim |\n",
    ":---------| ------------------- |\n",
    "| 1 | 2 |\n",
    "| 2 | 3 |\n",
    "| 3 | 5 |\n",
    "| 4 | 7 |\n",
    "| 5 | 11 |"
   ]
  },
  {
   "cell_type": "markdown",
   "id": "72b5fcd5-4814-4252-ab46-7e9e94fa6e83",
   "metadata": {},
   "source": [
    "Codul de mai jos afișează primele n numere prime, cu n citit de la tastatură"
   ]
  },
  {
   "cell_type": "code",
   "execution_count": 169,
   "id": "5a8c9051-9c37-4e2d-8149-e5625fe6cb08",
   "metadata": {},
   "outputs": [
    {
     "name": "stdin",
     "output_type": "stream",
     "text": [
      "n=  1\n"
     ]
    }
   ],
   "source": [
    "n=int(input(\"n= \"))\n",
    "k=0\n",
    "for j in range(n*n):\n",
    "    if k!=n:\n",
    "        if j > 1:\n",
    "            for i in range(2, j):\n",
    "                if (j % i) == 0:\n",
    "                    break\n",
    "            else:\n",
    "                print(j)\n",
    "                k+=1"
   ]
  },
  {
   "cell_type": "markdown",
   "id": "79f78c17-3b55-478c-a853-c248e058902a",
   "metadata": {},
   "source": [
    "## Exercițiul 3: Loto 6/49 ##"
   ]
  },
  {
   "cell_type": "markdown",
   "id": "53dea898-da84-4940-ac1c-7bc44cf8425f",
   "metadata": {},
   "source": [
    "![alt text](Loto.png \"Title\")"
   ]
  },
  {
   "cell_type": "markdown",
   "id": "0155bbb2-99e0-4249-b98f-24fb45ed95c6",
   "metadata": {},
   "source": [
    " Codul de mai jos vă permite alegerea a 6 numere de la 1 la 49, apoi face o extragere aleatorie și afișează cîte numere ați ghicit"
   ]
  },
  {
   "cell_type": "code",
   "execution_count": 40,
   "id": "704445c2-2505-4458-ba9f-e46fbd886e59",
   "metadata": {},
   "outputs": [
    {
     "name": "stdin",
     "output_type": "stream",
     "text": [
      "Alegeti numere intre 1 si 49: 1\n",
      "Alegeti numere intre 1 si 49: 2\n",
      "Alegeti numere intre 1 si 49: 3\n",
      "Alegeti numere intre 1 si 49: 4\n",
      "Alegeti numere intre 1 si 49: 5\n",
      "Alegeti numere intre 1 si 49: 6\n"
     ]
    },
    {
     "name": "stdout",
     "output_type": "stream",
     "text": [
      "[1, 2, 3, 4, 5, 6]\n",
      "[16, 26, 10, 1, 23, 2]\n",
      "2\n"
     ]
    }
   ],
   "source": [
    "import random\n",
    "\n",
    "jucator = []\n",
    "n = 0\n",
    "extragere = []\n",
    "m = 0\n",
    "numar_corect = 0\n",
    "\n",
    "while n < 6:\n",
    "    k = int(input('Alegeti numere intre 1 si 49:'))\n",
    "    if k < 1 or k > 49: \n",
    "        print('Numar incorect')\n",
    "    elif k not in jucator:\n",
    "        n += 1\n",
    "        jucator.append(k)\n",
    "print(jucator)\n",
    "\n",
    "while m < 6:\n",
    "    loto = random.randint(1, 49)\n",
    "    if loto not in extragere:\n",
    "        m += 1\n",
    "        extragere.append(loto)\n",
    "print(extragere)\n",
    "\n",
    "for i in jucator:\n",
    "    for j in extragere:\n",
    "        if i == j:\n",
    "            numar_corect += 1\n",
    "        else:\n",
    "            pass\n",
    "print(numar_corect)      "
   ]
  },
  {
   "cell_type": "code",
   "execution_count": null,
   "id": "2554e2ef-aa39-4bca-b2bb-21eb67f86614",
   "metadata": {},
   "outputs": [],
   "source": []
  }
 ],
 "metadata": {
  "kernelspec": {
   "display_name": "Python 3 (ipykernel)",
   "language": "python",
   "name": "python3"
  },
  "language_info": {
   "codemirror_mode": {
    "name": "ipython",
    "version": 3
   },
   "file_extension": ".py",
   "mimetype": "text/x-python",
   "name": "python",
   "nbconvert_exporter": "python",
   "pygments_lexer": "ipython3",
   "version": "3.9.7"
  }
 },
 "nbformat": 4,
 "nbformat_minor": 5
}
