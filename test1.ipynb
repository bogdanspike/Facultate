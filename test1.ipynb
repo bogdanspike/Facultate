{
 "cells": [
  {
   "cell_type": "markdown",
   "id": "8f6ed96c-a4b1-4036-b5b1-e06fe2cb9677",
   "metadata": {},
   "source": [
    "# Exerciții în Jupyter 20 aprilie #"
   ]
  },
  {
   "cell_type": "markdown",
   "id": "27feb595-c938-4863-9f8d-2fc2c185b50b",
   "metadata": {},
   "source": [
    "## Ghicește numărul! ##"
   ]
  },
  {
   "cell_type": "code",
   "execution_count": 31,
   "id": "23b2b51d-ac03-4522-b9e8-bff1b15f0428",
   "metadata": {},
   "outputs": [
    {
     "name": "stdin",
     "output_type": "stream",
     "text": [
      "Încercarea 0:  \n",
      "Alege un numar intre 1 si 100:  2\n"
     ]
    },
    {
     "name": "stdout",
     "output_type": "stream",
     "text": [
      "Prea mic\n"
     ]
    },
    {
     "name": "stdin",
     "output_type": "stream",
     "text": [
      "Încercarea 1:  q\n"
     ]
    },
    {
     "name": "stdout",
     "output_type": "stream",
     "text": [
      "Ai parasit jocul dupa 1 incercari\n"
     ]
    }
   ],
   "source": [
    "import random\n",
    "\n",
    "numar = random.randint(1, 100)\n",
    "alegere = None\n",
    "nrIncercari = 0\n",
    "\n",
    "while nrIncercari != 10:\n",
    "    if input(f'Încercarea {nrIncercari}: ').lower() == 'q':\n",
    "        print(f'Ai parasit jocul dupa un numar de {nrIncercari} incercari')\n",
    "        break\n",
    "    alegere = int(input('Alege un numar intre 1 si 100: '))\n",
    "    if nrIncercari == 10:\n",
    "        print('Nu ai reusit sa ghicesti numarul')\n",
    "        break\n",
    "    if alegere == numar:\n",
    "        print('Ai ghicit numarul')\n",
    "        break\n",
    "    elif alegere < numar:\n",
    "        print('Prea mic')\n",
    "        nrIncercari += 1\n",
    "        continue\n",
    "    elif alegere > numar:\n",
    "        print('Prea mare')\n",
    "        nrIncercari += 1\n",
    "        continue\n",
    "        "
   ]
  },
  {
   "cell_type": "markdown",
   "id": "38e1a35b-c54c-447e-800d-1c85a0f6784e",
   "metadata": {},
   "source": [
    "## Zaruri ##"
   ]
  },
  {
   "cell_type": "markdown",
   "id": "285511a9-0d9b-4a9c-ba55-f72d092df976",
   "metadata": {},
   "source": [
    "\n",
    "Codul de mai jos joacă zaruri. Computerul aruncă 2 zaruri și se afișează rezultatul și suma punctelor de pe cele două zaruri. Apoi aruncă și pentru dumneavoastră și se afișează rezultatul și suma punctelor de pe cele două zaruri. Cîștigă jucătorul cu suma mai mare."
   ]
  },
  {
   "cell_type": "code",
   "execution_count": 30,
   "id": "e648a273-7821-482f-b915-ea42460d19b4",
   "metadata": {},
   "outputs": [
    {
     "name": "stdout",
     "output_type": "stream",
     "text": [
      "CPU a dat:  3\n",
      "Utilizator a dat:  5\n",
      "CPU a dat:  5\n",
      "Utilizator a dat:  5\n",
      "8\n",
      "10\n",
      "Ati castigat\n"
     ]
    }
   ],
   "source": [
    "suma_CPU = 0\n",
    "suma_Utilizator = 0\n",
    "for i in range(2):\n",
    "    CPU = random.randint(1, 6)\n",
    "    Utilizator = random.randint(1, 6)\n",
    "    suma_CPU = suma_CPU + CPU\n",
    "    suma_Utilizator = suma_Utilizator + Utilizator\n",
    "    print('CPU a dat: ', CPU)\n",
    "    print('Utilizator a dat: ', Utilizator)\n",
    "print(suma_CPU)\n",
    "print(suma_Utilizator)\n",
    "if suma_CPU < suma_Utilizator:\n",
    "    print('Ati castigat')\n",
    "elif suma_CPU > suma_Utilizator:\n",
    "    print('CPU a castigat')\n",
    "else:\n",
    "    print('Egalitate')"
   ]
  }
 ],
 "metadata": {
  "kernelspec": {
   "display_name": "Python 3 (ipykernel)",
   "language": "python",
   "name": "python3"
  },
  "language_info": {
   "codemirror_mode": {
    "name": "ipython",
    "version": 3
   },
   "file_extension": ".py",
   "mimetype": "text/x-python",
   "name": "python",
   "nbconvert_exporter": "python",
   "pygments_lexer": "ipython3",
   "version": "3.9.7"
  }
 },
 "nbformat": 4,
 "nbformat_minor": 5
}
